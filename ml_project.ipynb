{
 "cells": [
  {
   "cell_type": "code",
   "execution_count": 2,
   "metadata": {},
   "outputs": [
    {
     "name": "stdout",
     "output_type": "stream",
     "text": [
      "Saved train data\n",
      "Saved test data\n"
     ]
    }
   ],
   "source": [
    "# convert data\n",
    "import os\n",
    "import numpy as np\n",
    "import pickle as pkl\n",
    "import torch\n",
    "from torchvision.utils import save_image\n",
    "\n",
    "file_header = 'csci-ua-473-intro-to-machine-learning-fall-2022'\n",
    "trainx = torch.load(file_header + '/train/train/trainX.pt')\n",
    "trainy = torch.load(file_header + '/train/train/trainY.pt')\n",
    "testx = torch.load(file_header + '/test/test/testX.pt')\n",
    "\n",
    "num_train = trainx[0].shape[0]\n",
    "num_test = testx[0].shape[0]\n",
    "\n",
    "os.makedirs('./lazydata', exist_ok=True)\n",
    "\n",
    "# Save train data\n",
    "os.makedirs('./lazydata/train', exist_ok=True)\n",
    "os.makedirs('./lazydata/train/X', exist_ok=True)\n",
    "os.makedirs('./lazydata/train/Y', exist_ok=True)\n",
    "for i in range(num_train):\n",
    "    os.makedirs('./lazydata/train/X/{}'.format(i), exist_ok=True)\n",
    "    # rgb\n",
    "    os.makedirs('./lazydata/train/X/{}/rgb'.format(i), exist_ok=True)\n",
    "    for j in range(3):\n",
    "        save_image(trainx[0][i][j]/255, './lazydata/train/X/{}/rgb/{}.png'.format(i, j))\n",
    "    # depth\n",
    "    depth = trainx[1][i].numpy()\n",
    "    np.save('./lazydata/train/X/{}/depth.npy'.format(i), depth)\n",
    "    # field id\n",
    "    pkl.dump(trainx[2][i], open('./lazydata/train/X/{}/field_id.pkl'.format(i), 'wb'))\n",
    "\n",
    "    y = trainy[0][i].numpy()\n",
    "    np.save('./lazydata/train/Y/{}.npy'.format(i), y)\n",
    "print(\"Saved train data\")\n",
    "\n",
    "# Save test data\n",
    "os.makedirs('./lazydata/test', exist_ok=True)\n",
    "os.makedirs('./lazydata/test/X', exist_ok=True)\n",
    "for i in range(num_test):\n",
    "    os.makedirs('./lazydata/test/X/{}'.format(i), exist_ok=True)\n",
    "    # rgb\n",
    "    os.makedirs('./lazydata/test/X/{}/rgb'.format(i), exist_ok=True)\n",
    "    for j in range(3):\n",
    "        save_image(testx[0][i][j]/255, './lazydata/test/X/{}/rgb/{}.png'.format(i, j))\n",
    "    # depth\n",
    "    depth = testx[1][i].numpy()\n",
    "    np.save('./lazydata/test/X/{}/depth.npy'.format(i), depth)\n",
    "    # field id\n",
    "    pkl.dump(testx[2][i], open('./lazydata/test/X/{}/field_id.pkl'.format(i), 'wb'))\n",
    "\n",
    "print(\"Saved test data\")"
   ]
  },
  {
   "cell_type": "code",
   "execution_count": 5,
   "metadata": {},
   "outputs": [],
   "source": [
    "import cv2\n",
    "import torch\n",
    "from torch import nn\n",
    "from torch.utils.data import Dataset, DataLoader\n",
    "from torchvision import datasets\n",
    "from torchvision.transforms import ToTensor"
   ]
  },
  {
   "cell_type": "code",
   "execution_count": 9,
   "metadata": {},
   "outputs": [],
   "source": [
    "# lazy loading data\n",
    "class LazyLoadDataset(Dataset):\n",
    "    def __init__(self, path, train = True, transform = None):\n",
    "        self.transform = transform\n",
    "        path = path + ('train/' if train else 'test/')\n",
    "\n",
    "        self.pathX = path + 'X/'\n",
    "        self.pathY = path + 'Y/'\n",
    "\n",
    "        self.data = os.listdir(self.pathX)\n",
    "    \n",
    "    def __getitem__(self, index):\n",
    "        f = self.data[index]\n",
    "\n",
    "        # X\n",
    "        # read rgb images\n",
    "        img0 = cv2.imread(self.pathX + f + '/rgb/0.png')\n",
    "        img1 = cv2.imread(self.pathX + f + '/rgb/1.png')\n",
    "        img2 = cv2.imread(self.pathX + f + '/rgb/2.png')\n",
    "\n",
    "        if self.transform is not None:\n",
    "            img0 = self.transform(img0)\n",
    "            img1 = self.transform(img1)\n",
    "            img2 = self.transform(img2)\n",
    "        \n",
    "        # read depth\n",
    "        depth = np.load(self.pathX + f + '/depth.npy')\n",
    "\n",
    "        #read field id\n",
    "        field_id = pkl.load(open(self.pathX + f + '/field_id.pkl', 'rb'))\n",
    "\n",
    "        # Y\n",
    "        Y = np.load(self.pathY + f + '.npy')\n",
    "        \n",
    "        return (img0, img1, img2, depth, field_id), Y\n",
    "    \n",
    "    def __len__(self):\n",
    "        return len(self.data)"
   ]
  },
  {
   "cell_type": "code",
   "execution_count": 10,
   "metadata": {},
   "outputs": [],
   "source": [
    "dataset = LazyLoadDataset('./lazydata/')"
   ]
  },
  {
   "cell_type": "code",
   "execution_count": 11,
   "metadata": {},
   "outputs": [],
   "source": [
    "(img0, img1, img2, depth, field_id), Y = dataset[0]"
   ]
  },
  {
   "cell_type": "code",
   "execution_count": 27,
   "metadata": {},
   "outputs": [
    {
     "data": {
      "text/plain": [
       "numpy.ndarray"
      ]
     },
     "execution_count": 27,
     "metadata": {},
     "output_type": "execute_result"
    }
   ],
   "source": [
    "type(img0)"
   ]
  },
  {
   "cell_type": "code",
   "execution_count": 14,
   "metadata": {},
   "outputs": [
    {
     "data": {
      "text/plain": [
       "'1573'"
      ]
     },
     "execution_count": 14,
     "metadata": {},
     "output_type": "execute_result"
    }
   ],
   "source": [
    "field_id"
   ]
  },
  {
   "cell_type": "code",
   "execution_count": 15,
   "metadata": {},
   "outputs": [
    {
     "data": {
      "text/plain": [
       "(12,)"
      ]
     },
     "execution_count": 15,
     "metadata": {},
     "output_type": "execute_result"
    }
   ],
   "source": [
    "Y.shape"
   ]
  },
  {
   "cell_type": "code",
   "execution_count": 16,
   "metadata": {},
   "outputs": [
    {
     "data": {
      "text/plain": [
       "array([ 0.0486987 ,  0.05146899,  0.12119602,  0.05379465, -0.00211509,\n",
       "        0.11356296,  0.06531687, -0.05045136,  0.09290361,  0.05493185,\n",
       "       -0.02291667, -0.06235145])"
      ]
     },
     "execution_count": 16,
     "metadata": {},
     "output_type": "execute_result"
    }
   ],
   "source": [
    "Y"
   ]
  },
  {
   "cell_type": "code",
   "execution_count": 26,
   "metadata": {},
   "outputs": [
    {
     "data": {
      "image/png": "[encoded data removed]",
      "text/plain": [
       "<Figure size 432x288 with 1 Axes>"
      ]
     },
     "metadata": {
      "needs_background": "light"
     },
     "output_type": "display_data"
    }
   ],
   "source": [
    "import matplotlib.pyplot as plt\n",
    "# plt.imshow(img0[:,:,::-1])\n",
    "plt.imshow(depth[0])\n",
    "plt.show()"
   ]
  },
  {
   "cell_type": "code",
   "execution_count": null,
   "metadata": {},
   "outputs": [],
   "source": []
  }
 ],
 "metadata": {
  "kernelspec": {
   "display_name": "Python 3.9.1 64-bit",
   "language": "python",
   "name": "python3"
  },
  "language_info": {
   "codemirror_mode": {
    "name": "ipython",
    "version": 3
   },
   "file_extension": ".py",
   "mimetype": "text/x-python",
   "name": "python",
   "nbconvert_exporter": "python",
   "pygments_lexer": "ipython3",
   "version": "3.9.1"
  },
  "orig_nbformat": 4,
  "vscode": {
   "interpreter": {
    "hash": "aee8b7b246df8f9039afb4144a1f6fd8d2ca17a180786b69acc140d282b71a49"
   }
  }
 },
 "nbformat": 4,
 "nbformat_minor": 2
}
