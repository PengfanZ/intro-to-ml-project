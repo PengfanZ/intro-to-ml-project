{
 "cells": [
  {
   "cell_type": "code",
   "execution_count": 2,
   "metadata": {},
   "outputs": [
    {
     "name": "stdout",
     "output_type": "stream",
     "text": [
      "Saved train data\n",
      "Saved test data\n"
     ]
    }
   ],
   "source": [
    "# convert data\n",
    "import os\n",
    "import numpy as np\n",
    "import pickle as pkl\n",
    "import torch\n",
    "from torchvision.utils import save_image\n",
    "\n",
    "file_header = 'csci-ua-473-intro-to-machine-learning-fall-2022'\n",
    "trainx = torch.load(file_header + '/train/train/trainX.pt')\n",
    "trainy = torch.load(file_header + '/train/train/trainY.pt')\n",
    "testx = torch.load(file_header + '/test/test/testX.pt')\n",
    "\n",
    "num_train = trainx[0].shape[0]\n",
    "num_test = testx[0].shape[0]\n",
    "\n",
    "os.makedirs('./lazydata', exist_ok=True)\n",
    "\n",
    "# Save train data\n",
    "os.makedirs('./lazydata/train', exist_ok=True)\n",
    "os.makedirs('./lazydata/train/X', exist_ok=True)\n",
    "os.makedirs('./lazydata/train/Y', exist_ok=True)\n",
    "for i in range(num_train):\n",
    "    os.makedirs('./lazydata/train/X/{}'.format(i), exist_ok=True)\n",
    "    # rgb\n",
    "    os.makedirs('./lazydata/train/X/{}/rgb'.format(i), exist_ok=True)\n",
    "    for j in range(3):\n",
    "        save_image(trainx[0][i][j]/255, './lazydata/train/X/{}/rgb/{}.png'.format(i, j))\n",
    "    # depth\n",
    "    depth = trainx[1][i].numpy()\n",
    "    np.save('./lazydata/train/X/{}/depth.npy'.format(i), depth)\n",
    "    # field id\n",
    "    pkl.dump(trainx[2][i], open('./lazydata/train/X/{}/field_id.pkl'.format(i), 'wb'))\n",
    "\n",
    "    y = trainy[0][i].numpy()\n",
    "    np.save('./lazydata/train/Y/{}.npy'.format(i), y)\n",
    "print(\"Saved train data\")\n",
    "\n",
    "# Save test data\n",
    "os.makedirs('./lazydata/test', exist_ok=True)\n",
    "os.makedirs('./lazydata/test/X', exist_ok=True)\n",
    "for i in range(num_test):\n",
    "    os.makedirs('./lazydata/test/X/{}'.format(i), exist_ok=True)\n",
    "    # rgb\n",
    "    os.makedirs('./lazydata/test/X/{}/rgb'.format(i), exist_ok=True)\n",
    "    for j in range(3):\n",
    "        save_image(testx[0][i][j]/255, './lazydata/test/X/{}/rgb/{}.png'.format(i, j))\n",
    "    # depth\n",
    "    depth = testx[1][i].numpy()\n",
    "    np.save('./lazydata/test/X/{}/depth.npy'.format(i), depth)\n",
    "    # field id\n",
    "    pkl.dump(testx[2][i], open('./lazydata/test/X/{}/field_id.pkl'.format(i), 'wb'))\n",
    "\n",
    "print(\"Saved test data\")"
   ]
  },
  {
   "cell_type": "code",
   "execution_count": null,
   "metadata": {},
   "outputs": [],
   "source": []
  }
 ],
 "metadata": {
  "kernelspec": {
   "display_name": "Python 3.9.1 64-bit",
   "language": "python",
   "name": "python3"
  },
  "language_info": {
   "codemirror_mode": {
    "name": "ipython",
    "version": 3
   },
   "file_extension": ".py",
   "mimetype": "text/x-python",
   "name": "python",
   "nbconvert_exporter": "python",
   "pygments_lexer": "ipython3",
   "version": "3.9.1"
  },
  "orig_nbformat": 4,
  "vscode": {
   "interpreter": {
    "hash": "aee8b7b246df8f9039afb4144a1f6fd8d2ca17a180786b69acc140d282b71a49"
   }
  }
 },
 "nbformat": 4,
 "nbformat_minor": 2
}
